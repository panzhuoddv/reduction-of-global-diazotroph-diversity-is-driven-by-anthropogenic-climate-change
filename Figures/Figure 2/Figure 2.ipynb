{
 "cells": [
  {
   "cell_type": "code",
   "execution_count": null,
   "id": "10ce6092",
   "metadata": {
    "ExecuteTime": {
     "end_time": "2025-01-09T07:11:35.716357Z",
     "start_time": "2025-01-09T07:11:34.204201Z"
    }
   },
   "outputs": [],
   "source": [
    "import numpy as np\n",
    "import os\n",
    "import matplotlib as mpl\n",
    "import matplotlib.pyplot as plt\n",
    "plt.rcParams['font.family'] = 'Arial'\n",
    "mpl.rc('axes', labelsize=14)\n",
    "mpl.rc('xtick', labelsize=12)\n",
    "mpl.rc('ytick', labelsize=12)\n",
    "PROJECT_ROOT_DIR = \".\"\n",
    "CHAPTER_ID = \"\"\n",
    "IMAGES_PATH = os.path.join(PROJECT_ROOT_DIR, \"Figure2\", CHAPTER_ID)\n",
    "os.makedirs(IMAGES_PATH, exist_ok=True)\n",
    "def save_fig(fig_id, tight_layout=True, fig_extension=\"png\", resolution=300):\n",
    "    path = os.path.join(IMAGES_PATH, fig_id + \".\" + fig_extension)\n",
    "    print(\"Saving figure\", fig_id)\n",
    "    if tight_layout:\n",
    "        plt.tight_layout()\n",
    "    plt.savefig(path, format=fig_extension, dpi=resolution)\n",
    "import warnings\n",
    "warnings.filterwarnings(action=\"ignore\", message=\"^internal gelsd\")\n",
    "import seaborn as sns"
   ]
  },
  {
   "cell_type": "markdown",
   "id": "ad783aa6",
   "metadata": {},
   "source": [
    "## Figure 2a"
   ]
  },
  {
   "cell_type": "code",
   "execution_count": null,
   "id": "74e53d4d",
   "metadata": {
    "ExecuteTime": {
     "end_time": "2024-12-16T01:27:15.713665Z",
     "start_time": "2024-12-16T01:27:14.427308Z"
    }
   },
   "outputs": [],
   "source": [
    "import pandas as pd\n",
    "import matplotlib.pyplot as plt\n",
    "import seaborn as sns\n",
    "import statsmodels.api as sm\n",
    "from statsmodels.formula.api import ols"
   ]
  },
  {
   "cell_type": "code",
   "execution_count": null,
   "id": "83bf2fd6",
   "metadata": {
    "ExecuteTime": {
     "end_time": "2024-12-16T01:28:37.985038Z",
     "start_time": "2024-12-16T01:27:44.355038Z"
    },
    "scrolled": true
   },
   "outputs": [],
   "source": [
    "# Define the formula\n",
    "f2 = 're_type ~ abs(y)'\n",
    "\n",
    "# Create the plot\n",
    "plt.figure(figsize=(10, 6))\n",
    "sns.scatterplot(data=dat3, x=abs(dat3['y']), y='re_type', hue='convertedbio_1', palette='RdYlBu_r')\n",
    "\n",
    "# Fit the linear model\n",
    "model = ols(f2, data=dat3).fit()\n",
    "dat3['fitted'] = model.fittedvalues\n",
    "\n",
    "# Add the regression line\n",
    "sns.lineplot(data=dat3, x=abs(dat3['y']), y='fitted', color='black', linewidth=0.8)\n",
    "\n",
    "# Add the equation and p-value\n",
    "eq_label = f'${model.params[1]:.2f}x + {model.params[0]:.2f}$'\n",
    "p_value_label = f'$p = {model.pvalues[1]:.3f}$'\n",
    "plt.text(0.05, 0.95, f'{eq_label}~~~{p_value_label}', transform=plt.gca().transAxes, \n",
    "         fontsize=10, verticalalignment='top')\n",
    "\n",
    "# Customize the color bar\n",
    "norm = plt.Normalize(-20, 20)\n",
    "sm = plt.cm.ScalarMappable(cmap='RdYlBu_r', norm=norm)\n",
    "sm.set_array([])\n",
    "cbar = plt.colorbar(sm)\n",
    "cbar.set_label('Annual mean temperature', rotation=270, labelpad=15)\n",
    "cbar.set_ticks([-20, -10, 0, 10, 20])\n",
    "\n",
    "# Customize the plot\n",
    "plt.xlabel('Absolute latitude')\n",
    "plt.ylabel('Relative richness')\n",
    "plt.title('Terra')\n",
    "plt.grid(True)\n",
    "plt.show()"
   ]
  },
  {
   "cell_type": "code",
   "execution_count": null,
   "id": "6cd31455",
   "metadata": {
    "ExecuteTime": {
     "end_time": "2024-12-16T01:27:41.793429Z",
     "start_time": "2024-12-16T01:27:41.620293Z"
    }
   },
   "outputs": [],
   "source": [
    "dat3 = pd.read_csv('data/dat_terra.csv')"
   ]
  },
  {
   "cell_type": "code",
   "execution_count": null,
   "id": "95e75e1a",
   "metadata": {
    "ExecuteTime": {
     "end_time": "2024-05-26T05:12:04.456124Z",
     "start_time": "2024-05-26T05:12:04.334988Z"
    }
   },
   "outputs": [],
   "source": [
    "import pandas as pd\n",
    "dfr=pd.read_csv('data/dat_terra.csv')\n",
    "dfr['y']=abs(dfr['y'])\n",
    "dfr"
   ]
  },
  {
   "cell_type": "code",
   "execution_count": null,
   "id": "8bc532bb",
   "metadata": {},
   "outputs": [],
   "source": [
    "ax = sns.set_context({\"figure.figsize\": (7, 5)})\n",
    "sns.scatterplot(x=dfr[f'y'], y=dfr['re_type'],\n",
    "                edgecolor='black', linewidth=.05, s=2, alpha=.8, color='#A76231', ax=ax)\n",
    "sns.regplot(x=dfr[f'y'], y=dfr['re_type'], scatter=False, ci=95,\n",
    "            ax=ax, line_kws={'color': '#A76231', 'linewidth': 5})\n",
    "ax.set_xlabel(f'Absolute latitude', fontsize=18)\n",
    "ax.set_ylabel('Relative Richness', fontsize=18)\n",
    "le = ax.legend().remove()\n",
    "save_fig(f'ldg_terra')"
   ]
  },
  {
   "cell_type": "code",
   "execution_count": null,
   "id": "16dab26e",
   "metadata": {
    "ExecuteTime": {
     "end_time": "2024-05-24T09:55:06.406582Z",
     "start_time": "2024-05-24T09:55:06.352331Z"
    }
   },
   "outputs": [],
   "source": [
    "dfm=pd.read_csv('data/dat_marine.csv')\n",
    "dfm['y']=abs(dfm['y'])\n",
    "dfm"
   ]
  },
  {
   "cell_type": "code",
   "execution_count": null,
   "id": "15ca001c",
   "metadata": {},
   "outputs": [],
   "source": [
    "ax = sns.set_context({\"figure.figsize\": (7, 5)})\n",
    "ax = sns.scatterplot(x=dfm[f'y'], y=dfm['re_type'],\n",
    "                     edgecolor='black', linewidth=.05, s=2, alpha=.8, color='#19538E')\n",
    "sns.regplot(x=dfm[f'y'], y=dfm['re_type'], scatter=False, ci=95,\n",
    "            ax=ax, line_kws={'color': '#19538E', 'linewidth': 5})\n",
    "ax.set_xlabel(f'Absolute latitude', fontsize=18)\n",
    "ax.set_ylabel('Relative Richness', fontsize=18)\n",
    "le = ax.legend().remove()\n",
    "save_fig(f'ldg_marine')"
   ]
  },
  {
   "cell_type": "code",
   "execution_count": null,
   "id": "61fbdbad",
   "metadata": {},
   "outputs": [],
   "source": [
    "! Rscript sankey"
   ]
  },
  {
   "cell_type": "markdown",
   "id": "056bce07",
   "metadata": {},
   "source": [
    "## Figure 2b"
   ]
  },
  {
   "cell_type": "code",
   "execution_count": null,
   "id": "eb61e846",
   "metadata": {
    "ExecuteTime": {
     "end_time": "2025-01-09T07:10:11.283712Z",
     "start_time": "2025-01-09T07:10:11.204873Z"
    }
   },
   "outputs": [],
   "source": [
    "import pandas as pd\n",
    "df18=pd.read_csv('data/sample_richness.csv',index_col=0)\n",
    "df18"
   ]
  },
  {
   "cell_type": "code",
   "execution_count": null,
   "id": "c48ab4a5",
   "metadata": {
    "ExecuteTime": {
     "end_time": "2025-01-09T07:10:43.584386Z",
     "start_time": "2025-01-09T07:10:43.571860Z"
    }
   },
   "outputs": [],
   "source": [
    "index=['paddy',\n",
    " 'peatland',\n",
    " 'tundra',\n",
    " 'forest',\n",
    " 'farm',\n",
    " 'grassland',\n",
    " 'agricultural',\n",
    " 'desert',\n",
    " 'shrub',\n",
    " 'groundwater',\n",
    " 'sediment',\n",
    " 'river',\n",
    " 'waste',\n",
    " 'lake',\n",
    " 'estuary',\n",
    " 'reservoir',\n",
    " 'marine',\n",
    " 'ice']"
   ]
  },
  {
   "cell_type": "code",
   "execution_count": null,
   "id": "0c34d172",
   "metadata": {
    "ExecuteTime": {
     "end_time": "2025-01-09T07:10:44.379369Z",
     "start_time": "2025-01-09T07:10:44.347420Z"
    }
   },
   "outputs": [],
   "source": [
    "df19=df18[df18['env'].isin(index[:])]\n",
    "df19['richness'].groupby(df19['env']).median().sort_values(ascending=False)\n",
    "ls=list(df19['richness'].groupby(df19['env']).median().sort_values(ascending=False).index)"
   ]
  },
  {
   "cell_type": "code",
   "execution_count": null,
   "id": "5f8af129",
   "metadata": {
    "ExecuteTime": {
     "end_time": "2025-01-09T07:10:46.922544Z",
     "start_time": "2025-01-09T07:10:46.891545Z"
    }
   },
   "outputs": [],
   "source": [
    "df18['env'] = pd.Categorical(df18['env'], categories=ls, ordered=True)\n",
    "df18_sorted = df18.sort_values('env')\n",
    "df18_sorted "
   ]
  },
  {
   "cell_type": "code",
   "execution_count": null,
   "id": "12ff4c06",
   "metadata": {
    "ExecuteTime": {
     "end_time": "2025-01-09T07:10:49.900890Z",
     "start_time": "2025-01-09T07:10:49.877040Z"
    }
   },
   "outputs": [],
   "source": [
    "df18_sorted=df18_sorted.dropna()\n",
    "df18_sorted"
   ]
  },
  {
   "cell_type": "code",
   "execution_count": null,
   "id": "3a2646e7",
   "metadata": {
    "ExecuteTime": {
     "end_time": "2025-01-09T07:10:52.684700Z",
     "start_time": "2025-01-09T07:10:52.667954Z"
    }
   },
   "outputs": [],
   "source": [
    "df18_sorted.sort_values('env')"
   ]
  },
  {
   "cell_type": "code",
   "execution_count": null,
   "id": "f8f7eabf",
   "metadata": {
    "ExecuteTime": {
     "end_time": "2024-12-12T11:58:49.996545Z",
     "start_time": "2024-12-12T11:58:49.987546Z"
    }
   },
   "outputs": [],
   "source": [
    "df18_sorted['richness'].groupby(df18_sorted['env']).median()"
   ]
  },
  {
   "cell_type": "code",
   "execution_count": null,
   "id": "377fc6b1",
   "metadata": {
    "ExecuteTime": {
     "end_time": "2025-01-09T07:11:06.165467Z",
     "start_time": "2025-01-09T07:11:06.155467Z"
    }
   },
   "outputs": [],
   "source": [
    "dicc={'forest':'#F7DA75',\n",
    " 'farm':'#F7DA75',\n",
    " 'grassland':'#F7DA75',\n",
    " 'agricultural':'#F7DA75',\n",
    " 'peatland':'#F7DA75',\n",
    " 'paddy':'#F7DA75',\n",
    " 'desert':'#F7DA75',\n",
    " 'tundra':'#F7DA75',\n",
    " 'shrub':'#F7DA75',\n",
    " 'sediment':'#74B1DF',\n",
    " 'river':'#74B1DF',\n",
    " 'waste':'#74B1DF',\n",
    " 'lake':'#74B1DF',\n",
    " 'marine':'#74B1DF',\n",
    " 'reservoir':'#74B1DF',\n",
    " 'groundwater':'#74B1DF',\n",
    " 'estuary':'#74B1DF',\n",
    " 'ice':'#74B1DF'}\n",
    "\n",
    "category_colors = [dicc[i] for i in ls]\n",
    "category_colors"
   ]
  },
  {
   "cell_type": "code",
   "execution_count": null,
   "id": "0e1ff3d6",
   "metadata": {
    "ExecuteTime": {
     "end_time": "2025-01-09T07:11:10.044860Z",
     "start_time": "2025-01-09T07:11:10.020762Z"
    }
   },
   "outputs": [],
   "source": [
    "df18_sorted ['env']=df18_sorted ['env'].str.capitalize()\n",
    "df18_sorted "
   ]
  },
  {
   "cell_type": "code",
   "execution_count": null,
   "id": "83b4a53c",
   "metadata": {
    "ExecuteTime": {
     "end_time": "2025-01-09T07:11:44.129669Z",
     "start_time": "2025-01-09T07:11:43.443817Z"
    }
   },
   "outputs": [],
   "source": [
    "df55=df18_sorted \n",
    "color=category_colors\n",
    "ig, ax = plt.subplots(figsize=(9,7), clear=True)\n",
    "ax = sns.boxplot(y='env', x='richness', data=df55,\n",
    "                 showfliers=False, palette=color,orient='h',linewidth=2)\n",
    "ax.set_ylabel('')\n",
    "ax.set_xlabel(f'Relative richness', fontsize=18)\n",
    "ax.tick_params(axis='x', labelsize=11.5)\n",
    "ax.tick_params(axis='y', labelsize=11.5)\n",
    "ax.set_xticks([0.0,0.1,0.2,0.3,0.4,0.5])\n",
    "ax.set_xticklabels(['0.0', '0.1', '0.2', '0.3', '0.4', '0.5'])\n",
    "ax.set_xticklabels(ax.get_xticklabels(),fontsize=14)\n",
    "ax.set_yticklabels(ax.get_yticklabels(),fontsize=14)\n",
    "ax.spines['bottom'].set_linewidth(1.5)\n",
    "ax.spines['left'].set_linewidth(1.5)\n",
    "ax.spines['right'].set_linewidth(1.5)\n",
    "ax.spines['top'].set_linewidth(1.5)\n",
    "save_fig(f'Relative richness')"
   ]
  },
  {
   "cell_type": "code",
   "execution_count": null,
   "id": "1f76e33a",
   "metadata": {
    "ExecuteTime": {
     "end_time": "2025-01-09T07:12:24.800703Z",
     "start_time": "2025-01-09T07:12:24.725686Z"
    }
   },
   "outputs": [],
   "source": [
    "import pandas as pd\n",
    "df20=pd.read_csv('data/df22_otu.csv',index_col=0)\n",
    "df20"
   ]
  },
  {
   "cell_type": "code",
   "execution_count": null,
   "id": "b2d68f94",
   "metadata": {
    "ExecuteTime": {
     "end_time": "2025-01-09T07:12:25.243149Z",
     "start_time": "2025-01-09T07:12:25.203534Z"
    }
   },
   "outputs": [],
   "source": [
    "# df20[df20>1]=1\n",
    "df20[df20<=1]=0\n",
    "df20[df20>1]=1\n",
    "df20"
   ]
  },
  {
   "cell_type": "code",
   "execution_count": null,
   "id": "536584eb",
   "metadata": {
    "ExecuteTime": {
     "end_time": "2025-01-09T07:12:29.454411Z",
     "start_time": "2025-01-09T07:12:29.435979Z"
    }
   },
   "outputs": [],
   "source": [
    "s=df20.sum(axis=0).sort_values()\n",
    "s"
   ]
  },
  {
   "cell_type": "code",
   "execution_count": null,
   "id": "8afac001",
   "metadata": {
    "ExecuteTime": {
     "end_time": "2025-01-09T07:12:29.973108Z",
     "start_time": "2025-01-09T07:12:29.963116Z"
    }
   },
   "outputs": [],
   "source": [
    "s3=s[s==18]\n",
    "s3\n",
    "l=list(s3.index)"
   ]
  },
  {
   "cell_type": "code",
   "execution_count": null,
   "id": "f93496b3",
   "metadata": {
    "ExecuteTime": {
     "end_time": "2024-12-31T07:56:48.042251Z",
     "start_time": "2024-12-31T07:56:48.011081Z"
    }
   },
   "outputs": [],
   "source": [
    "df3=pd.read_csv('../../Supplementary Dataset 4.csv')\n",
    "df3"
   ]
  },
  {
   "cell_type": "code",
   "execution_count": null,
   "id": "93c5239f",
   "metadata": {
    "ExecuteTime": {
     "end_time": "2024-12-28T06:49:01.480789Z",
     "start_time": "2024-12-28T06:49:01.458787Z"
    }
   },
   "outputs": [],
   "source": [
    "df4=df3[df3['OTU'].isin(l)]\n",
    "df4"
   ]
  },
  {
   "cell_type": "code",
   "execution_count": null,
   "id": "59b1436f",
   "metadata": {
    "ExecuteTime": {
     "end_time": "2024-12-28T06:49:57.429575Z",
     "start_time": "2024-12-28T06:49:57.402572Z"
    }
   },
   "outputs": [],
   "source": [
    "df4.to_csv('57otu.csv')"
   ]
  },
  {
   "cell_type": "code",
   "execution_count": null,
   "id": "d6cac827",
   "metadata": {
    "ExecuteTime": {
     "end_time": "2025-01-09T07:12:53.421101Z",
     "start_time": "2025-01-09T07:12:53.381731Z"
    }
   },
   "outputs": [],
   "source": [
    "import pandas as pd\n",
    "df4=pd.read_csv('57otu.csv')\n",
    "df4"
   ]
  },
  {
   "cell_type": "code",
   "execution_count": null,
   "id": "35b93f31",
   "metadata": {
    "ExecuteTime": {
     "end_time": "2025-01-09T07:12:58.241007Z",
     "start_time": "2025-01-09T07:12:58.236129Z"
    }
   },
   "outputs": [],
   "source": [
    "len(df4)"
   ]
  },
  {
   "cell_type": "code",
   "execution_count": null,
   "id": "cea63325",
   "metadata": {
    "ExecuteTime": {
     "end_time": "2025-01-09T07:13:01.039413Z",
     "start_time": "2025-01-09T07:13:01.021414Z"
    }
   },
   "outputs": [],
   "source": [
    "from collections import Counter"
   ]
  },
  {
   "cell_type": "code",
   "execution_count": null,
   "id": "b5d4371e",
   "metadata": {
    "ExecuteTime": {
     "end_time": "2025-01-09T07:13:01.448731Z",
     "start_time": "2025-01-09T07:13:01.432642Z"
    }
   },
   "outputs": [],
   "source": [
    "Counter(df4['phylum'])"
   ]
  },
  {
   "cell_type": "code",
   "execution_count": null,
   "id": "2f363d79",
   "metadata": {
    "ExecuteTime": {
     "end_time": "2025-01-09T07:13:06.079202Z",
     "start_time": "2025-01-09T07:13:06.067528Z"
    }
   },
   "outputs": [],
   "source": [
    "s2=s.value_counts().sort_index()\n",
    "s2"
   ]
  },
  {
   "cell_type": "code",
   "execution_count": null,
   "id": "ef736ec6",
   "metadata": {
    "ExecuteTime": {
     "end_time": "2025-01-09T07:13:06.566111Z",
     "start_time": "2025-01-09T07:13:06.498519Z"
    }
   },
   "outputs": [],
   "source": [
    "s2[10:].sum()"
   ]
  },
  {
   "cell_type": "code",
   "execution_count": null,
   "id": "de0438fa",
   "metadata": {
    "ExecuteTime": {
     "end_time": "2025-01-09T07:13:13.545288Z",
     "start_time": "2025-01-09T07:13:13.532382Z"
    }
   },
   "outputs": [],
   "source": [
    "x1=s2.index\n",
    "y1=s2.values"
   ]
  },
  {
   "cell_type": "code",
   "execution_count": null,
   "id": "03e17244",
   "metadata": {
    "ExecuteTime": {
     "end_time": "2025-01-09T07:13:14.033461Z",
     "start_time": "2025-01-09T07:13:14.018442Z"
    }
   },
   "outputs": [],
   "source": [
    "x2=[]\n",
    "x3=[]\n",
    "for i in list(x1):\n",
    "    x2.append(int(i))\n",
    "    x3.append(int(i-1))"
   ]
  },
  {
   "cell_type": "code",
   "execution_count": null,
   "id": "cd2af2f1",
   "metadata": {
    "ExecuteTime": {
     "end_time": "2025-01-09T07:13:14.443324Z",
     "start_time": "2025-01-09T07:13:14.436158Z"
    }
   },
   "outputs": [],
   "source": [
    "x2"
   ]
  },
  {
   "cell_type": "code",
   "execution_count": null,
   "id": "b49479e3",
   "metadata": {
    "ExecuteTime": {
     "end_time": "2025-01-09T07:13:14.884388Z",
     "start_time": "2025-01-09T07:13:14.876382Z"
    }
   },
   "outputs": [],
   "source": [
    "x3"
   ]
  },
  {
   "cell_type": "code",
   "execution_count": null,
   "id": "8e1a595e",
   "metadata": {
    "ExecuteTime": {
     "end_time": "2025-01-09T07:13:15.418685Z",
     "start_time": "2025-01-09T07:13:15.410686Z"
    }
   },
   "outputs": [],
   "source": [
    "ax.get_yticklabels()"
   ]
  },
  {
   "cell_type": "code",
   "execution_count": null,
   "id": "991c9fc2",
   "metadata": {
    "ExecuteTime": {
     "end_time": "2025-01-09T07:13:35.012019Z",
     "start_time": "2025-01-09T07:13:34.563029Z"
    }
   },
   "outputs": [],
   "source": [
    "ax=sns.set_context({\"figure.figsize\": (7,5)})\n",
    "ax=sns.barplot(x=x2,y=y1,facecolor=\"#808080\", edgecolor='black', linewidth=2\n",
    "\n",
    "            )\n",
    "ax.set_ylabel('Diazotrophs (OTUs)',fontsize=18)\n",
    "ax.set_xlabel('Habitats ',fontsize=18)\n",
    "ax.set_xticklabels(labels=ax.get_xticklabels(),horizontalalignment='center',fontsize=13)\n",
    "ax.set_yticklabels(labels=[0,10,20,30,40,50,60],fontsize=13)\n",
    "\n",
    "dodge_value = 0.7  # 设置柱子之间的间隔，范围为 0 到 1\n",
    "ax.set_xlim(-0.6,17.6)\n",
    "# tick_params(which='major',width=2,length=8)\n",
    "ax.spines['bottom'].set_linewidth(2)#设置边框线宽为2.0\n",
    "ax.spines['left'].set_linewidth(2)\n",
    "ax.spines['right'].set_linewidth(2)\n",
    "ax.spines['top'].set_linewidth(2)\n",
    "ax.plot(x3,y1, 'r', ms=5, lw=2,marker='o')\n",
    "save_fig('Figure S1c')"
   ]
  },
  {
   "cell_type": "code",
   "execution_count": null,
   "id": "9e543694",
   "metadata": {
    "ExecuteTime": {
     "end_time": "2025-01-09T07:13:46.694865Z",
     "start_time": "2025-01-09T07:13:44.541644Z"
    }
   },
   "outputs": [],
   "source": [
    "df=pd.read_csv('data/sample_summary.csv')\n",
    "df"
   ]
  },
  {
   "cell_type": "code",
   "execution_count": null,
   "id": "a6e2b823",
   "metadata": {
    "ExecuteTime": {
     "end_time": "2025-01-09T07:13:47.398429Z",
     "start_time": "2025-01-09T07:13:47.378929Z"
    }
   },
   "outputs": [],
   "source": [
    "list(df.columns)[:15]"
   ]
  },
  {
   "cell_type": "code",
   "execution_count": null,
   "id": "02804ccb",
   "metadata": {
    "ExecuteTime": {
     "end_time": "2025-01-09T07:13:57.638764Z",
     "start_time": "2025-01-09T07:13:56.174061Z"
    }
   },
   "outputs": [],
   "source": [
    "# df3=pd.read_csv('D:/work/cancer_microbiome/snnipets/example/violinplot.csv',index_col=0)\n",
    "\n",
    "dfh2=df\n",
    "ax=sns.set_context({\"figure.figsize\": (7, 5)})\n",
    "# custom_palette = [\"#808080\", \"#FF0000\", \"#008000\"]\n",
    "ax=sns.scatterplot(x=dfh2['total_reads'],y=dfh2['nif_type'],color='black' ,\n",
    "                   edgecolor='#000000',linewidth=.3,s=20,alpha=.3\n",
    " )\n",
    "ax.set_xticklabels(labels=ax.get_xticklabels(),horizontalalignment='center',fontsize=13)\n",
    "ax.set_yticklabels(labels=[-10,0,50,100,150,200,250,300],fontsize=13)\n",
    "ax.set_ylim(-10,300)\n",
    "ax.set_xlim(1000,100000000)\n",
    "ax.set_xscale('log')\n",
    "ax.set_xticks([1000, 100000, 10000000])\n",
    "ax.set_xticklabels(labels=[1000, 100000, 10000000], horizontalalignment='center', fontsize=13)\n",
    "# ax.set_xticklabels(labels=[10000, 100000, 1000000], horizontalalignment='center', fontsize=13)\n",
    "# ax.yaxis.set_major_formatter(ticker.PercentFormatter(xmax=1, decimals=1))\n",
    "ax.set_ylabel('Diazotrophs (OTUs)',fontsize=18)\n",
    "ax.set_xlabel('Sequencing depth',fontsize=18)\n",
    "ax.spines['bottom'].set_linewidth(2)#设置边框线宽为2.0\n",
    "ax.spines['left'].set_linewidth(2)\n",
    "ax.spines['right'].set_linewidth(2)\n",
    "ax.spines['top'].set_linewidth(2)\n",
    "# legend = ax.legend()\n",
    "# legend.remove()\n",
    "save_fig(f'Figure s1d')"
   ]
  },
  {
   "cell_type": "code",
   "execution_count": null,
   "id": "9210297e",
   "metadata": {},
   "outputs": [],
   "source": []
  },
  {
   "cell_type": "markdown",
   "id": "a579528a",
   "metadata": {},
   "source": [
    "## Figure 2c"
   ]
  },
  {
   "cell_type": "code",
   "execution_count": null,
   "id": "38356cc1",
   "metadata": {
    "ExecuteTime": {
     "end_time": "2024-12-12T13:03:33.967976Z",
     "start_time": "2024-12-12T13:03:33.939975Z"
    }
   },
   "outputs": [],
   "source": [
    "import pandas as pd\n",
    "df=pd.read_csv('data/dfq8.csv',index_col=0)\n",
    "df"
   ]
  },
  {
   "cell_type": "code",
   "execution_count": null,
   "id": "f2a7ab36",
   "metadata": {
    "ExecuteTime": {
     "end_time": "2024-12-12T13:06:28.405739Z",
     "start_time": "2024-12-12T13:06:28.381636Z"
    }
   },
   "outputs": [],
   "source": [
    "df2=pd.read_csv('data/grassland_mean.csv',index_col=0)\n",
    "df2.columns=['grassland']\n",
    "df2.T"
   ]
  },
  {
   "cell_type": "code",
   "execution_count": null,
   "id": "c153125f",
   "metadata": {
    "ExecuteTime": {
     "end_time": "2024-12-12T13:07:09.442188Z",
     "start_time": "2024-12-12T13:07:09.418203Z"
    }
   },
   "outputs": [],
   "source": [
    "df3=pd.concat([df,df2.T]).fillna(0.0)\n",
    "df3"
   ]
  },
  {
   "cell_type": "code",
   "execution_count": null,
   "id": "4bc69462",
   "metadata": {
    "ExecuteTime": {
     "end_time": "2024-12-21T15:27:33.834970Z",
     "start_time": "2024-12-21T15:27:33.825373Z"
    }
   },
   "outputs": [],
   "source": [
    "words_list = [\n",
    "    \"agricultural\", \"desert\", \"estuary\", \"farm\", \"grassland\", \"forest\", \n",
    "    \"groundwater\", \"ice\", \"lake\", \"marine\", \"paddy\", \"peatland\", \n",
    "    \"reservoir\", \"river\", \"sediment\", \"shrub\", \"tundra\", \"waste\"\n",
    "]"
   ]
  },
  {
   "cell_type": "code",
   "execution_count": null,
   "id": "adad70b0",
   "metadata": {
    "ExecuteTime": {
     "end_time": "2024-12-12T13:20:20.218782Z",
     "start_time": "2024-12-12T13:20:20.193967Z"
    }
   },
   "outputs": [],
   "source": [
    "df4=df3.loc[words_list,:]\n",
    "df4.to_csv('data/dfq8.csv')"
   ]
  },
  {
   "cell_type": "code",
   "execution_count": null,
   "id": "804f1d98",
   "metadata": {},
   "outputs": [],
   "source": [
    "! Rscript pcoa.R"
   ]
  },
  {
   "cell_type": "markdown",
   "id": "fb405552",
   "metadata": {},
   "source": [
    "## Figure 2d"
   ]
  },
  {
   "cell_type": "code",
   "execution_count": null,
   "id": "f3233172",
   "metadata": {
    "ExecuteTime": {
     "end_time": "2024-12-12T12:48:46.564346Z",
     "start_time": "2024-12-12T12:48:46.557739Z"
    }
   },
   "outputs": [],
   "source": [
    "ls=['paddy',\n",
    " 'peatland',\n",
    " 'tundra',\n",
    " 'forest',\n",
    " 'farm',\n",
    " 'grassland',\n",
    " 'agricultural',\n",
    " 'desert',\n",
    " 'shrub']+['groundwater',\n",
    "                              'sediment',\n",
    "                             'river',\n",
    "                              'waste',\n",
    "                              'lake',\n",
    "                              'reservoir',\n",
    "                              'estuary',\n",
    "                              'sea',\n",
    "                              'ice']"
   ]
  },
  {
   "cell_type": "code",
   "execution_count": null,
   "id": "0945557b",
   "metadata": {
    "ExecuteTime": {
     "end_time": "2024-12-12T12:48:56.545717Z",
     "start_time": "2024-12-12T12:48:46.909685Z"
    }
   },
   "outputs": [],
   "source": [
    "dic={}\n",
    "for i in ls:\n",
    "    dic[i]=[]\n",
    "    files=glob.glob(f'data/result/{i}*.csv')\n",
    "    for file in files:\n",
    "        df=pd.read_csv(file,index_col=0)\n",
    "        df2=df.melt()\n",
    "        df2['value']=abs(df2['value'])\n",
    "        dic[i].append(len(df2[df2['value']>2])/len(df2[df2['value']>=0]))"
   ]
  },
  {
   "cell_type": "code",
   "execution_count": null,
   "id": "649b49cb",
   "metadata": {},
   "outputs": [],
   "source": []
  },
  {
   "cell_type": "code",
   "execution_count": null,
   "id": "318b5f1d",
   "metadata": {
    "ExecuteTime": {
     "end_time": "2024-12-24T03:02:17.633591Z",
     "start_time": "2024-12-24T03:02:17.622507Z"
    }
   },
   "outputs": [],
   "source": [
    "i='grassland'\n",
    "import glob\n",
    "files=glob.glob(f'data/result/{i}*.csv')\n",
    "files"
   ]
  },
  {
   "cell_type": "code",
   "execution_count": null,
   "id": "25ba101b",
   "metadata": {
    "ExecuteTime": {
     "end_time": "2024-12-24T03:05:12.746421Z",
     "start_time": "2024-12-24T03:05:12.727165Z"
    }
   },
   "outputs": [],
   "source": [
    "import pandas as pd\n",
    "df=pd.read_csv(files[0],index_col=0)\n",
    "df2=df.melt()\n",
    "df2['value']=abs(df2['value'])\n",
    "len(df2[df2['value']>2])/len(df2[df2['value']>=0])"
   ]
  },
  {
   "cell_type": "code",
   "execution_count": null,
   "id": "62c38f96",
   "metadata": {
    "ExecuteTime": {
     "end_time": "2024-12-24T03:03:50.949425Z",
     "start_time": "2024-12-24T03:03:50.926758Z"
    }
   },
   "outputs": [],
   "source": [
    "df"
   ]
  },
  {
   "cell_type": "code",
   "execution_count": null,
   "id": "e0d38cc7",
   "metadata": {
    "ExecuteTime": {
     "end_time": "2024-12-12T12:49:16.498521Z",
     "start_time": "2024-12-12T12:49:16.481629Z"
    }
   },
   "outputs": [],
   "source": [
    "dic"
   ]
  },
  {
   "cell_type": "code",
   "execution_count": null,
   "id": "00e0d2da",
   "metadata": {
    "ExecuteTime": {
     "end_time": "2024-12-12T12:49:19.968688Z",
     "start_time": "2024-12-12T12:49:19.947352Z"
    }
   },
   "outputs": [],
   "source": [
    "pd.DataFrame(dic).unstack()"
   ]
  },
  {
   "cell_type": "code",
   "execution_count": null,
   "id": "1ff5f8ce",
   "metadata": {
    "ExecuteTime": {
     "end_time": "2024-12-12T12:49:27.418340Z",
     "start_time": "2024-12-12T12:49:27.408271Z"
    }
   },
   "outputs": [],
   "source": [
    "pd.DataFrame(dic).unstack().to_csv('data/result.csv')"
   ]
  },
  {
   "cell_type": "code",
   "execution_count": null,
   "id": "32e2c28f",
   "metadata": {
    "ExecuteTime": {
     "end_time": "2024-12-12T12:55:52.604193Z",
     "start_time": "2024-12-12T12:55:52.584209Z"
    }
   },
   "outputs": [],
   "source": [
    "import pandas as pd\n",
    "df=pd.read_csv('data/result.csv')\n",
    "df.columns=['env','sample','deterministic processes']\n",
    "df"
   ]
  },
  {
   "cell_type": "code",
   "execution_count": null,
   "id": "80fa68f3",
   "metadata": {
    "ExecuteTime": {
     "end_time": "2024-12-12T12:55:54.135736Z",
     "start_time": "2024-12-12T12:55:54.126724Z"
    }
   },
   "outputs": [],
   "source": [
    "df=df.replace('sea','marine')\n",
    "df"
   ]
  },
  {
   "cell_type": "code",
   "execution_count": null,
   "id": "02800d90",
   "metadata": {
    "ExecuteTime": {
     "end_time": "2024-12-12T12:49:48.020443Z",
     "start_time": "2024-12-12T12:49:48.012443Z"
    }
   },
   "outputs": [],
   "source": [
    "df['deterministic processes'].groupby(df['env']).mean().sort_values(ascending=False).index"
   ]
  },
  {
   "cell_type": "code",
   "execution_count": null,
   "id": "a6620500",
   "metadata": {
    "ExecuteTime": {
     "end_time": "2024-12-12T12:55:58.339441Z",
     "start_time": "2024-12-12T12:55:58.331533Z"
    }
   },
   "outputs": [],
   "source": [
    "dicc={'forest':'#F7DA75',\n",
    " 'farm':'#F7DA75',\n",
    " 'grassland':'#F7DA75',\n",
    " 'agricultural':'#F7DA75',\n",
    " 'peatland':'#F7DA75',\n",
    " 'paddy':'#F7DA75',\n",
    " 'desert':'#F7DA75',\n",
    " 'tundra':'#F7DA75',\n",
    " 'shrub':'#F7DA75',\n",
    " 'sediment':'#74B1DF',\n",
    " 'river':'#74B1DF',\n",
    " 'waste':'#74B1DF',\n",
    " 'lake':'#74B1DF',\n",
    " 'marine':'#74B1DF',\n",
    " 'reservoir':'#74B1DF',\n",
    " 'groundwater':'#74B1DF',\n",
    " 'estuary':'#74B1DF',\n",
    " 'ice':'#74B1DF'}"
   ]
  },
  {
   "cell_type": "code",
   "execution_count": null,
   "id": "9d083c31",
   "metadata": {
    "ExecuteTime": {
     "end_time": "2024-12-12T12:55:58.800582Z",
     "start_time": "2024-12-12T12:55:58.783508Z"
    }
   },
   "outputs": [],
   "source": [
    "ls2=['paddy',\n",
    " 'peatland',\n",
    " 'tundra',\n",
    " 'forest',\n",
    " 'farm',\n",
    " 'grassland',\n",
    " 'agricultural',\n",
    " 'desert',\n",
    " 'shrub']+['groundwater',\n",
    "                              'sediment',\n",
    "                             'river',\n",
    "                              'waste',\n",
    "                              'lake',\n",
    "                              'reservoir',\n",
    "                              'estuary',\n",
    "                              'marine',\n",
    "                              'ice']"
   ]
  },
  {
   "cell_type": "code",
   "execution_count": null,
   "id": "f2ca4bc6",
   "metadata": {
    "ExecuteTime": {
     "end_time": "2024-12-12T12:56:02.002013Z",
     "start_time": "2024-12-12T12:56:01.986008Z"
    }
   },
   "outputs": [],
   "source": [
    "color=[]\n",
    "for i in ls2:\n",
    "    color.append(dicc[i])"
   ]
  },
  {
   "cell_type": "code",
   "execution_count": null,
   "id": "20a717d7",
   "metadata": {
    "ExecuteTime": {
     "end_time": "2024-12-12T12:56:02.480530Z",
     "start_time": "2024-12-12T12:56:02.464466Z"
    }
   },
   "outputs": [],
   "source": [
    "labels2=['peatland', 'forest', 'shrub', 'desert', 'grassland', 'paddy', 'farm',\n",
    "       'river', 'agricultural', 'estuary', 'waste', 'tundra', 'reservoir',\n",
    "       'sediment', 'lake', 'groundwater', 'marine', 'ice'][::-1]"
   ]
  },
  {
   "cell_type": "code",
   "execution_count": null,
   "id": "59c7b934",
   "metadata": {
    "ExecuteTime": {
     "end_time": "2024-12-12T12:56:03.301247Z",
     "start_time": "2024-12-12T12:56:03.280353Z"
    }
   },
   "outputs": [],
   "source": [
    "df['env'] = pd.Categorical(df['env'], categories=labels2, ordered=True)\n",
    "df = df.sort_values('env')\n",
    "df['deterministic processes']=df['deterministic processes']*100\n",
    "df"
   ]
  },
  {
   "cell_type": "code",
   "execution_count": null,
   "id": "0fd947eb",
   "metadata": {
    "ExecuteTime": {
     "end_time": "2024-12-12T12:56:06.137536Z",
     "start_time": "2024-12-12T12:56:06.125557Z"
    }
   },
   "outputs": [],
   "source": [
    "df['stochastic processes']=100-df['deterministic processes']\n",
    "df"
   ]
  },
  {
   "cell_type": "code",
   "execution_count": null,
   "id": "b44b03dd",
   "metadata": {
    "ExecuteTime": {
     "end_time": "2024-12-12T12:56:08.655037Z",
     "start_time": "2024-12-12T12:56:08.633897Z"
    }
   },
   "outputs": [],
   "source": [
    "df['deterministic processes']=df['deterministic processes']/100\n",
    "df"
   ]
  },
  {
   "cell_type": "code",
   "execution_count": null,
   "id": "361ee6dd",
   "metadata": {
    "ExecuteTime": {
     "end_time": "2024-12-12T12:56:13.695106Z",
     "start_time": "2024-12-12T12:56:13.672277Z"
    }
   },
   "outputs": [],
   "source": [
    "df.to_csv('data/dfq.csv')"
   ]
  },
  {
   "cell_type": "code",
   "execution_count": null,
   "id": "fe92cdfb",
   "metadata": {
    "ExecuteTime": {
     "end_time": "2024-12-12T12:56:14.159618Z",
     "start_time": "2024-12-12T12:56:14.137951Z"
    }
   },
   "outputs": [],
   "source": [
    "df=pd.read_csv('data/dfq.csv')\n",
    "df2=df[df['env']=='ice']\n",
    "# df2=df2.sort_values('deterministic processes',ascending=False)\n",
    "df2['stochastic processes'].mean()"
   ]
  },
  {
   "cell_type": "code",
   "execution_count": null,
   "id": "09e52f42",
   "metadata": {
    "ExecuteTime": {
     "end_time": "2024-12-12T12:51:44.054439Z",
     "start_time": "2024-12-12T12:51:44.048422Z"
    }
   },
   "outputs": [],
   "source": [
    "df2['stochastic processes'].std()"
   ]
  },
  {
   "cell_type": "code",
   "execution_count": null,
   "id": "bc34e967",
   "metadata": {
    "ExecuteTime": {
     "end_time": "2024-12-12T12:56:18.359451Z",
     "start_time": "2024-12-12T12:56:18.346940Z"
    }
   },
   "outputs": [],
   "source": [
    "df3=df2[['sample','deterministic processes','deterministic processes']].set_index('sample')\n",
    "df3"
   ]
  },
  {
   "cell_type": "code",
   "execution_count": null,
   "id": "7d8456fd",
   "metadata": {
    "ExecuteTime": {
     "end_time": "2024-12-12T12:56:37.525704Z",
     "start_time": "2024-12-12T12:56:37.515691Z"
    }
   },
   "outputs": [],
   "source": [
    "df=pd.read_csv('data/dfq.csv',index_col=0)\n",
    "df"
   ]
  },
  {
   "cell_type": "code",
   "execution_count": null,
   "id": "8e821118",
   "metadata": {
    "ExecuteTime": {
     "end_time": "2024-12-12T12:56:38.687275Z",
     "start_time": "2024-12-12T12:56:38.678262Z"
    }
   },
   "outputs": [],
   "source": [
    "ss=df.drop_duplicates('env')['env'].to_list()\n",
    "color=[dicc[i] for i in ss]\n",
    "color"
   ]
  },
  {
   "cell_type": "code",
   "execution_count": null,
   "id": "7a594f92",
   "metadata": {
    "ExecuteTime": {
     "end_time": "2024-12-12T12:56:41.853539Z",
     "start_time": "2024-12-12T12:56:41.840531Z"
    }
   },
   "outputs": [],
   "source": [
    "df['env']=df['env'].str.capitalize()\n",
    "df"
   ]
  },
  {
   "cell_type": "code",
   "execution_count": null,
   "id": "e6e62428",
   "metadata": {
    "ExecuteTime": {
     "end_time": "2024-12-12T12:56:45.812378Z",
     "start_time": "2024-12-12T12:56:45.803379Z"
    }
   },
   "outputs": [],
   "source": [
    "dicc={'forest':'#F7DA75',\n",
    " 'farm':'#F7DA75',\n",
    " 'grassland':'#F7DA75',\n",
    " 'agricultural':'#F7DA75',\n",
    " 'peatland':'#F7DA75',\n",
    " 'paddy':'#F7DA75',\n",
    " 'desert':'#F7DA75',\n",
    " 'tundra':'#F7DA75',\n",
    " 'shrub':'#F7DA75',\n",
    " 'sediment':'#74B1DF',\n",
    " 'river':'#74B1DF',\n",
    " 'waste':'#74B1DF',\n",
    " 'lake':'#74B1DF',\n",
    " 'marine':'#74B1DF',\n",
    " 'reservoir':'#74B1DF',\n",
    " 'groundwater':'#74B1DF',\n",
    " 'estuary':'#74B1DF',\n",
    " 'ice':'#74B1DF'}"
   ]
  },
  {
   "cell_type": "code",
   "execution_count": null,
   "id": "071b92ae",
   "metadata": {
    "ExecuteTime": {
     "end_time": "2024-12-12T12:59:40.555024Z",
     "start_time": "2024-12-12T12:59:40.187366Z"
    }
   },
   "outputs": [],
   "source": [
    "import seaborn as sns\n",
    "df55 = df\n",
    "ig, ax = plt.subplots(figsize=(9, 7), clear=True)\n",
    "ax = sns.boxplot(y='env', x='stochastic processes', data=df55,\n",
    "                 showfliers=False, palette=color, orient='h', linewidth=2)\n",
    "ax.set_ylabel('')\n",
    "ax.set_xlabel(f'Stochastic processes (%)', fontsize=18)\n",
    "ax.tick_params(axis='x', labelsize=11.5)\n",
    "ax.tick_params(axis='y', labelsize=11.5)\n",
    "ax.set_xticks([70,75,80,85,90,95])\n",
    "ax.set_xticklabels(['70', '75', '80', '85', '90', '95'])\n",
    "ax.set_xticklabels(ax.get_xticklabels(), fontsize=14)\n",
    "ax.set_yticklabels(ax.get_yticklabels(), fontsize=14)\n",
    "ax.spines['bottom'].set_linewidth(1.5)  # 设置边框线宽为2.0\n",
    "ax.spines['left'].set_linewidth(1.5)\n",
    "ax.spines['right'].set_linewidth(1.5)\n",
    "ax.spines['top'].set_linewidth(1.5)\n",
    "save_fig(f'Figure 2d')"
   ]
  },
  {
   "cell_type": "code",
   "execution_count": null,
   "id": "d84761cc",
   "metadata": {},
   "outputs": [],
   "source": []
  }
 ],
 "metadata": {
  "kernelspec": {
   "display_name": "Python 3 (ipykernel)",
   "language": "python",
   "name": "python3"
  },
  "language_info": {
   "codemirror_mode": {
    "name": "ipython",
    "version": 3
   },
   "file_extension": ".py",
   "mimetype": "text/x-python",
   "name": "python",
   "nbconvert_exporter": "python",
   "pygments_lexer": "ipython3",
   "version": "3.9.13"
  },
  "toc": {
   "base_numbering": 1,
   "nav_menu": {},
   "number_sections": true,
   "sideBar": true,
   "skip_h1_title": false,
   "title_cell": "Table of Contents",
   "title_sidebar": "Contents",
   "toc_cell": false,
   "toc_position": {
    "height": "calc(100% - 180px)",
    "left": "10px",
    "top": "150px",
    "width": "165px"
   },
   "toc_section_display": true,
   "toc_window_display": true
  },
  "varInspector": {
   "cols": {
    "lenName": 16,
    "lenType": 16,
    "lenVar": 40
   },
   "kernels_config": {
    "python": {
     "delete_cmd_postfix": "",
     "delete_cmd_prefix": "del ",
     "library": "var_list.py",
     "varRefreshCmd": "print(var_dic_list())"
    },
    "r": {
     "delete_cmd_postfix": ") ",
     "delete_cmd_prefix": "rm(",
     "library": "var_list.r",
     "varRefreshCmd": "cat(var_dic_list()) "
    }
   },
   "types_to_exclude": [
    "module",
    "function",
    "builtin_function_or_method",
    "instance",
    "_Feature"
   ],
   "window_display": false
  }
 },
 "nbformat": 4,
 "nbformat_minor": 5
}
